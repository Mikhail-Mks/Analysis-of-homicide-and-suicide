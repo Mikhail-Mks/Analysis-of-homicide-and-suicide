{
 "cells": [
  {
   "cell_type": "code",
   "execution_count": 112,
   "id": "98bc88bd",
   "metadata": {},
   "outputs": [],
   "source": [
    "import numpy as np\n",
    "import pandas as pd"
   ]
  },
  {
   "cell_type": "code",
   "execution_count": 113,
   "id": "fb0f434b",
   "metadata": {
    "scrolled": false
   },
   "outputs": [],
   "source": [
    "list = pd.read_html('https://meta.wikimedia.org/wiki/List_of_countries_by_regional_classification',index_col=None, header=0)"
   ]
  },
  {
   "cell_type": "code",
   "execution_count": 114,
   "id": "78ef25bc",
   "metadata": {},
   "outputs": [
    {
     "data": {
      "text/plain": [
       "(248, 3)"
      ]
     },
     "execution_count": 114,
     "metadata": {},
     "output_type": "execute_result"
    }
   ],
   "source": [
    "# reshaping array from 3D to 2D\n",
    "arr = np.array(list)\n",
    "r_array=np.reshape(arr,(248,3))\n",
    "r_array.shape"
   ]
  },
  {
   "cell_type": "code",
   "execution_count": 115,
   "id": "a5230d6c",
   "metadata": {
    "scrolled": false
   },
   "outputs": [],
   "source": [
    "df = pd.DataFrame(r_array, columns = ['country', 'Region', 'Global'])"
   ]
  },
  {
   "cell_type": "code",
   "execution_count": 116,
   "id": "47b3ffc0",
   "metadata": {},
   "outputs": [
    {
     "data": {
      "text/html": [
       "<div>\n",
       "<style scoped>\n",
       "    .dataframe tbody tr th:only-of-type {\n",
       "        vertical-align: middle;\n",
       "    }\n",
       "\n",
       "    .dataframe tbody tr th {\n",
       "        vertical-align: top;\n",
       "    }\n",
       "\n",
       "    .dataframe thead th {\n",
       "        text-align: right;\n",
       "    }\n",
       "</style>\n",
       "<table border=\"1\" class=\"dataframe\">\n",
       "  <thead>\n",
       "    <tr style=\"text-align: right;\">\n",
       "      <th></th>\n",
       "      <th>country</th>\n",
       "      <th>Region</th>\n",
       "      <th>Global</th>\n",
       "    </tr>\n",
       "  </thead>\n",
       "  <tbody>\n",
       "    <tr>\n",
       "      <th>0</th>\n",
       "      <td>Andorra</td>\n",
       "      <td>Europe</td>\n",
       "      <td>Global North</td>\n",
       "    </tr>\n",
       "    <tr>\n",
       "      <th>1</th>\n",
       "      <td>United Arab Emirates</td>\n",
       "      <td>Middle east</td>\n",
       "      <td>Global South</td>\n",
       "    </tr>\n",
       "    <tr>\n",
       "      <th>2</th>\n",
       "      <td>Afghanistan</td>\n",
       "      <td>Asia &amp; Pacific</td>\n",
       "      <td>Global South</td>\n",
       "    </tr>\n",
       "    <tr>\n",
       "      <th>3</th>\n",
       "      <td>Antigua and Barbuda</td>\n",
       "      <td>South/Latin America</td>\n",
       "      <td>Global South</td>\n",
       "    </tr>\n",
       "    <tr>\n",
       "      <th>4</th>\n",
       "      <td>Anguilla</td>\n",
       "      <td>South/Latin America</td>\n",
       "      <td>Global South</td>\n",
       "    </tr>\n",
       "    <tr>\n",
       "      <th>5</th>\n",
       "      <td>Albania</td>\n",
       "      <td>Europe</td>\n",
       "      <td>Global North</td>\n",
       "    </tr>\n",
       "    <tr>\n",
       "      <th>6</th>\n",
       "      <td>Armenia</td>\n",
       "      <td>Europe</td>\n",
       "      <td>Global North</td>\n",
       "    </tr>\n",
       "    <tr>\n",
       "      <th>7</th>\n",
       "      <td>Netherlands Antilles</td>\n",
       "      <td>South/Latin America</td>\n",
       "      <td>Global South</td>\n",
       "    </tr>\n",
       "    <tr>\n",
       "      <th>8</th>\n",
       "      <td>Angola</td>\n",
       "      <td>Africa</td>\n",
       "      <td>Global South</td>\n",
       "    </tr>\n",
       "    <tr>\n",
       "      <th>9</th>\n",
       "      <td>Antarctica</td>\n",
       "      <td>Asia &amp; Pacific</td>\n",
       "      <td>Global South</td>\n",
       "    </tr>\n",
       "    <tr>\n",
       "      <th>10</th>\n",
       "      <td>Argentina</td>\n",
       "      <td>South/Latin America</td>\n",
       "      <td>Global South</td>\n",
       "    </tr>\n",
       "    <tr>\n",
       "      <th>11</th>\n",
       "      <td>American Samoa</td>\n",
       "      <td>Asia &amp; Pacific</td>\n",
       "      <td>Global South</td>\n",
       "    </tr>\n",
       "    <tr>\n",
       "      <th>12</th>\n",
       "      <td>Austria</td>\n",
       "      <td>Europe</td>\n",
       "      <td>Global North</td>\n",
       "    </tr>\n",
       "    <tr>\n",
       "      <th>13</th>\n",
       "      <td>Australia</td>\n",
       "      <td>Asia &amp; Pacific</td>\n",
       "      <td>Global North</td>\n",
       "    </tr>\n",
       "    <tr>\n",
       "      <th>14</th>\n",
       "      <td>Aruba</td>\n",
       "      <td>South/Latin America</td>\n",
       "      <td>Global South</td>\n",
       "    </tr>\n",
       "    <tr>\n",
       "      <th>15</th>\n",
       "      <td>Azerbaijan</td>\n",
       "      <td>Asia &amp; Pacific</td>\n",
       "      <td>Global North</td>\n",
       "    </tr>\n",
       "    <tr>\n",
       "      <th>16</th>\n",
       "      <td>Bosnia and Herzegovina</td>\n",
       "      <td>Europe</td>\n",
       "      <td>Global North</td>\n",
       "    </tr>\n",
       "    <tr>\n",
       "      <th>17</th>\n",
       "      <td>Barbados</td>\n",
       "      <td>South/Latin America</td>\n",
       "      <td>Global South</td>\n",
       "    </tr>\n",
       "    <tr>\n",
       "      <th>18</th>\n",
       "      <td>Bangladesh</td>\n",
       "      <td>Asia &amp; Pacific</td>\n",
       "      <td>Global South</td>\n",
       "    </tr>\n",
       "    <tr>\n",
       "      <th>19</th>\n",
       "      <td>Belgium</td>\n",
       "      <td>Europe</td>\n",
       "      <td>Global North</td>\n",
       "    </tr>\n",
       "  </tbody>\n",
       "</table>\n",
       "</div>"
      ],
      "text/plain": [
       "                   country               Region        Global\n",
       "0                  Andorra               Europe  Global North\n",
       "1     United Arab Emirates          Middle east  Global South\n",
       "2              Afghanistan       Asia & Pacific  Global South\n",
       "3      Antigua and Barbuda  South/Latin America  Global South\n",
       "4                 Anguilla  South/Latin America  Global South\n",
       "5                  Albania               Europe  Global North\n",
       "6                  Armenia               Europe  Global North\n",
       "7     Netherlands Antilles  South/Latin America  Global South\n",
       "8                   Angola               Africa  Global South\n",
       "9               Antarctica       Asia & Pacific  Global South\n",
       "10               Argentina  South/Latin America  Global South\n",
       "11          American Samoa       Asia & Pacific  Global South\n",
       "12                 Austria               Europe  Global North\n",
       "13               Australia       Asia & Pacific  Global North\n",
       "14                   Aruba  South/Latin America  Global South\n",
       "15              Azerbaijan       Asia & Pacific  Global North\n",
       "16  Bosnia and Herzegovina               Europe  Global North\n",
       "17                Barbados  South/Latin America  Global South\n",
       "18              Bangladesh       Asia & Pacific  Global South\n",
       "19                 Belgium               Europe  Global North"
      ]
     },
     "execution_count": 116,
     "metadata": {},
     "output_type": "execute_result"
    }
   ],
   "source": [
    "df.head(20)"
   ]
  },
  {
   "cell_type": "code",
   "execution_count": 117,
   "id": "6a558208",
   "metadata": {},
   "outputs": [],
   "source": [
    "del df['Global']"
   ]
  },
  {
   "cell_type": "code",
   "execution_count": 118,
   "id": "fd18369a",
   "metadata": {},
   "outputs": [],
   "source": [
    "df.to_csv('regions.csv', index = False)"
   ]
  }
 ],
 "metadata": {
  "kernelspec": {
   "display_name": "Python 3 (ipykernel)",
   "language": "python",
   "name": "python3"
  },
  "language_info": {
   "codemirror_mode": {
    "name": "ipython",
    "version": 3
   },
   "file_extension": ".py",
   "mimetype": "text/x-python",
   "name": "python",
   "nbconvert_exporter": "python",
   "pygments_lexer": "ipython3",
   "version": "3.11.2"
  }
 },
 "nbformat": 4,
 "nbformat_minor": 5
}
